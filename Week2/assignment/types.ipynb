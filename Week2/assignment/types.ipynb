{
 "cells": [
  {
   "cell_type": "markdown",
   "metadata": {
    "deletable": false,
    "nbgrader": {
     "checksum": "cdd16b143a4ade85fd48c3b886da2a8d",
     "grade": false,
     "grade_id": "introduction",
     "locked": true,
     "solution": false
    }
   },
   "source": [
    "# Week 2 Assignment\n",
    "\n",
    "## Problem 1. Google Form.\n",
    "\n",
    "Complete this [survey](https://docs.google.com/forms/d/1gH-6Fz4-oynqSJkgkUX3rhAnri4aCRdiMTcHCiP6S3g/viewform).\n",
    "\n",
    "## Problem 2. Values and Types.\n",
    "\n",
    "The purpose of this problem is to give you a chance to perform the following tasks:\n",
    "\n",
    "- Run an IPython/Jupyter notebook server,\n",
    "- Import an `.ipynb` notebook file onto the IPython/Jupyter server,\n",
    "- Understand how a typical assignment works,\n",
    "- Understand assignment statements and `int`, `float`, and `str`,\n",
    "- Download a notebook from the IPython/Jupyter server and save it locally, and\n",
    "- Upload completed assignments onto Moodle.\n",
    "\n",
    "Before you turn this problem in, make sure everything runs as expected. First, restart the kernel (in the menubar, select `Kernel` → `Restart`) and then run all cells (in the menubar, select `Cell` → `Run All`).\n",
    "\n",
    "Make sure you fill in any place that says `YOUR CODE HERE`.\n",
    "\n",
    "Do **not** write your answer in anywhere else other than where it says `YOUR CODE HERE`.\n",
    "\n",
    "First, write your name and NetID below:"
   ]
  },
  {
   "cell_type": "code",
   "execution_count": null,
   "metadata": {
    "collapsed": true,
    "nbgrader": {
     "grade": false,
     "locked": false,
     "solution": false
    }
   },
   "outputs": [],
   "source": [
    "NAME = 'WRITE YOUR NAME HERE'\n",
    "NETID = 'WRITE YOUR NETID HERE'"
   ]
  },
  {
   "cell_type": "markdown",
   "metadata": {
    "deletable": false,
    "nbgrader": {
     "checksum": "8ee5d4b764e5440042be6c5df8b193a7",
     "grade": false,
     "grade_id": "int_problem",
     "locked": true,
     "solution": false
    }
   },
   "source": [
    "In the following code cell, assign a value of `490` to an integer variable named `an_integer`."
   ]
  },
  {
   "cell_type": "code",
   "execution_count": null,
   "metadata": {
    "collapsed": true,
    "deletable": false,
    "nbgrader": {
     "checksum": "2ec7ca45a2fa8bcfe449aea299921dc0",
     "grade": false,
     "grade_id": "int_answer",
     "locked": false,
     "solution": true
    }
   },
   "outputs": [],
   "source": [
    "# YOUR CODE HERE"
   ]
  },
  {
   "cell_type": "markdown",
   "metadata": {},
   "source": [
    "Don't worry about it yet if you don't understand what the following text and the code cell after the text mean. It will make sense after you learn functions next week.\n",
    "\n",
    "In the following code cell, you will see two assert statements, and almost every assignment will have such tests. These are what are called [unit tests](https://en.wikipedia.org/wiki/Unit_testing). When you submit completed assignments, instructors will determine your assignment grades by using automated grading tools to perform unit testing on your code, so if you pass all the tests without an error, you get a perfect score.\n",
    "\n",
    "It should be obvious to you that these tests are valuable hints! Study them. Write each piece of code so that it doesn't produce any errors. Writing the tests first, and *then* writing the actual code is actually a perfectly valid approach (preferred by many) to programming. It's called [test-driven development](https://en.wikipedia.org/wiki/Test-driven_development).\n",
    "\n",
    "So, remember to learn what `assert` means, and study [nose](http://nose.readthedocs.org/en/latest/testing.html) if you want to get a good grade."
   ]
  },
  {
   "cell_type": "code",
   "execution_count": null,
   "metadata": {
    "collapsed": false,
    "deletable": false,
    "nbgrader": {
     "checksum": "d3d57f5996ab9066451d1e035ac246f3",
     "grade": true,
     "grade_id": "int_test",
     "locked": true,
     "points": 10,
     "solution": false
    }
   },
   "outputs": [],
   "source": [
    "from nose.tools import assert_equal\n",
    "assert_equal(an_integer, 490)\n",
    "assert_equal(type(an_integer), int)"
   ]
  },
  {
   "cell_type": "markdown",
   "metadata": {
    "deletable": false,
    "nbgrader": {
     "checksum": "b6a3a4f51fec0523c61ce3d1e2d10885",
     "grade": false,
     "grade_id": "float_problem",
     "locked": true,
     "solution": false
    }
   },
   "source": [
    "In the following code cell, assign a value of `3.14159` to a floating point variable named `a_floating_point`."
   ]
  },
  {
   "cell_type": "code",
   "execution_count": null,
   "metadata": {
    "collapsed": true,
    "deletable": false,
    "nbgrader": {
     "checksum": "d7e04110e885de1e17d1503c01faab9a",
     "grade": false,
     "grade_id": "float_answer",
     "locked": false,
     "solution": true
    }
   },
   "outputs": [],
   "source": [
    "# YOUR CODE HERE"
   ]
  },
  {
   "cell_type": "code",
   "execution_count": null,
   "metadata": {
    "collapsed": false,
    "deletable": false,
    "nbgrader": {
     "checksum": "3c8953e481d267464976af10b865176f",
     "grade": true,
     "grade_id": "float_test",
     "locked": true,
     "points": 10,
     "solution": false
    }
   },
   "outputs": [],
   "source": [
    "assert_equal(a_floating_point, 3.14159)\n",
    "assert_equal(type(a_floating_point), float)"
   ]
  },
  {
   "cell_type": "markdown",
   "metadata": {
    "deletable": false,
    "nbgrader": {
     "checksum": "d5103c109ef1b5049c3fae69f7ff3d01",
     "grade": false,
     "grade_id": "str_problem",
     "locked": true,
     "solution": false
    }
   },
   "source": [
    "In the following code cell, assign a string `'informatics'` to a string variable named `a_string`."
   ]
  },
  {
   "cell_type": "code",
   "execution_count": null,
   "metadata": {
    "collapsed": false,
    "deletable": false,
    "nbgrader": {
     "checksum": "442c6c94ea31cadd7d02f9b48642d451",
     "grade": false,
     "grade_id": "str_answer",
     "locked": false,
     "solution": true
    }
   },
   "outputs": [],
   "source": [
    "# YOUR CODE HERE"
   ]
  },
  {
   "cell_type": "code",
   "execution_count": null,
   "metadata": {
    "collapsed": true,
    "deletable": false,
    "nbgrader": {
     "checksum": "ddf48a54c3c29497a5011e953e590030",
     "grade": true,
     "grade_id": "str_test",
     "locked": true,
     "points": 10,
     "solution": false
    }
   },
   "outputs": [],
   "source": [
    "assert_equal(a_string, 'informatics')\n",
    "assert_equal(type(a_string), str)"
   ]
  }
 ],
 "metadata": {
  "kernelspec": {
   "display_name": "Python 3",
   "language": "python",
   "name": "python3"
  },
  "language_info": {
   "codemirror_mode": {
    "name": "ipython",
    "version": 3
   },
   "file_extension": ".py",
   "mimetype": "text/x-python",
   "name": "python",
   "nbconvert_exporter": "python",
   "pygments_lexer": "ipython3",
   "version": "3.4.0"
  }
 },
 "nbformat": 4,
 "nbformat_minor": 0
}
