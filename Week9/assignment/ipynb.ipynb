{
 "cells": [
  {
   "cell_type": "markdown",
   "metadata": {},
   "source": [
    "Before you turn this problem in, make sure everything runs as expected. First, restart the kernel (in the menubar, select Kernel → Restart) and then run all cells (in the menubar, select Cell → Run All).\n",
    "\n",
    "Make sure you fill in any place that says YOUR CODE HERE.\n",
    "Do not write your answer in anywhere else other than where it says YOUR CODE HERE.\n",
    "\n",
    "First, write your name and NetID below:"
   ]
  },
  {
   "cell_type": "code",
   "execution_count": null,
   "metadata": {
    "collapsed": true
   },
   "outputs": [],
   "source": [
    "NAME = 'WRITE YOUR NAME HERE'\n",
    "NETID = 'WRITE YOUR NETID HERE'"
   ]
  },
  {
   "cell_type": "markdown",
   "metadata": {},
   "source": [
    "# Problem 9.1. IPython notebook as JSON."
   ]
  },
  {
   "cell_type": "code",
   "execution_count": null,
   "metadata": {
    "collapsed": true,
    "deletable": false,
    "nbgrader": {
     "checksum": "be7ba2075985331b1bee1d2d1b0baa66",
     "grade": false,
     "grade_id": "import",
     "locked": true,
     "solution": false
    }
   },
   "outputs": [],
   "source": [
    "import os\n",
    "import json\n",
    "import requests\n",
    "\n",
    "from nose.tools import assert_equal"
   ]
  },
  {
   "cell_type": "markdown",
   "metadata": {},
   "source": [
    "IPython/Jupyter notebooks are actually simple JSON documents. You may have noticed this if you are a Mac user, as OS X tries to attach `.json` at the end of the file name when you try to download an `.ipynb` file to your hard disk. It's because all information in the notebook is stored as JSON texts.\n",
    "\n",
    "See [The Jupyter Notebook Format](https://ipython.org/ipython-doc/3/notebook/nbformat.html) for details.\n",
    "\n",
    "In this problem, we will use the `json` module to parse a notebook file and extract some information about the notebook. We will use [intro2ipy.ipynb](https://github.com/UI-DataScience/info490-fa15/blob/master/Week2/notebooks/intro2ipy.ipynb) from Week 2 as an example."
   ]
  },
  {
   "cell_type": "code",
   "execution_count": null,
   "metadata": {
    "collapsed": true,
    "deletable": false,
    "nbgrader": {
     "checksum": "2d89c4c6422607670733ece7eb0fcfbd",
     "grade": false,
     "grade_id": "download_intro2ipy",
     "locked": true,
     "solution": false
    }
   },
   "outputs": [],
   "source": [
    "r = requests.get('https://raw.githubusercontent.com/UI-DataScience/info490-fa15/master/Week2/notebooks/intro2ipy.ipynb')\n",
    "\n",
    "with open('intro2ipy.ipynb', 'w') as f:\n",
    "    f.write(r.text)"
   ]
  },
  {
   "cell_type": "markdown",
   "metadata": {},
   "source": [
    "## Function: get\\_keys()\n",
    "\n",
    "- Write a function named `get_keys()` that takes a file name (str) and returns the keys (list of strings) of the dictionary at the [top level](https://ipython.org/ipython-doc/3/notebook/nbformat.html#top-level-structure).\n",
    "\n",
    "In other words, the function opens the JSON file, reads the file as a Python dictionary, and returns the keys of that dictionary. The dictionary you get from reading the JSON file is nested (there's a dictionary inside a dictionary inside a dictionary), and you should return the keys of the outermost (the top-level) dictionary."
   ]
  },
  {
   "cell_type": "code",
   "execution_count": null,
   "metadata": {
    "collapsed": false,
    "deletable": false,
    "nbgrader": {
     "checksum": "287f2b95544a0c42104f51c9b5e00aff",
     "grade": false,
     "grade_id": "get_keys_answer",
     "locked": false,
     "solution": true
    }
   },
   "outputs": [],
   "source": [
    "def get_keys(filename):\n",
    "    '''\n",
    "    Takes the file name (str) of a JSON text file and returns the keys of the top-level dictionary.\n",
    "    \n",
    "    Parameters\n",
    "    ----------\n",
    "    filename (str): a JSON file.\n",
    "    \n",
    "    Returns\n",
    "    -------\n",
    "    A list of strings.\n",
    "    '''\n",
    "    \n",
    "    # YOUR CODE HERE\n",
    "    \n",
    "    return result"
   ]
  },
  {
   "cell_type": "markdown",
   "metadata": {},
   "source": [
    "As shown in the [documentation](https://ipython.org/ipython-doc/3/notebook/nbformat.html#top-level-structure), you should get\n",
    "\n",
    "```\n",
    "['cells', 'nbformat_minor', 'metadata', 'nbformat']\n",
    "```\n",
    "\n",
    "when you call `get_keys()` for a typical notebook file. Run the following code cell to confirm this visually."
   ]
  },
  {
   "cell_type": "code",
   "execution_count": null,
   "metadata": {
    "collapsed": false,
    "deletable": false,
    "nbgrader": {
     "checksum": "5ff23a23927f55895022af76993cb901",
     "grade": false,
     "grade_id": "get_keys_print",
     "locked": true,
     "solution": false
    }
   },
   "outputs": [],
   "source": [
    "print(get_keys('intro2ipy.ipynb'))"
   ]
  },
  {
   "cell_type": "markdown",
   "metadata": {},
   "source": [
    "Your score is determined by the following tests."
   ]
  },
  {
   "cell_type": "code",
   "execution_count": null,
   "metadata": {
    "collapsed": false,
    "deletable": false,
    "nbgrader": {
     "checksum": "378a710e60a53929e80fb669dafd70ef",
     "grade": true,
     "grade_id": "get_keys_test",
     "locked": true,
     "points": 6,
     "solution": false
    }
   },
   "outputs": [],
   "source": [
    "test1 = get_keys('intro2ipy.ipynb')\n",
    "answer1 = ['cells', 'nbformat_minor', 'metadata', 'nbformat']\n",
    "\n",
    "assert_equal(len(test1), len(answer1))\n",
    "assert_equal(set(test1), set(answer1))\n",
    "\n",
    "test2 = {\n",
    "    'A': 1,\n",
    "    'B': {'C': 2, 'D': 3},\n",
    "    'C': {\n",
    "        'E': {'F': 4},\n",
    "        'G': {'H': 5, 'I': 6}\n",
    "    }\n",
    "}\n",
    "\n",
    "answer2 = ['A', 'B', 'C']\n",
    "\n",
    "with open('test.json', 'w') as f:\n",
    "    json.dump(test2, f)\n",
    "\n",
    "assert_equal(len(get_keys('test.json')), len(answer2))\n",
    "assert_equal(set(get_keys('test.json')), set(answer2))\n",
    "\n",
    "os.remove('test.json')"
   ]
  },
  {
   "cell_type": "markdown",
   "metadata": {},
   "source": [
    "## Function: get\\_version()\n",
    "\n",
    "Verion information is always important. For example, the course docker image runs Python 3.4, while the latest version of Python 3 is version 3.5, so new features in Python 3.5 may or may not work in 3.4. Or, if you try to run a Python 3 notebook using a Python 2 kernel, it will throw errors. Furthermore, IPython notebooks themselves have different format versions. We are using \"nbformat\" 4, and if you try to run this notebook in older versions of IPython kernels that only recognizes nbformats 3 or less, it won't run.\n",
    "\n",
    "- Write a function named `get_version()` that takes a file name (str) and returns a tuple of (\"the programming language of the kernel\", \"the version of the language\", nbformat). The data type of this tuple is `(str, str, int)`."
   ]
  },
  {
   "cell_type": "code",
   "execution_count": null,
   "metadata": {
    "collapsed": true,
    "deletable": false,
    "nbgrader": {
     "checksum": "a7b63c8ac1f03fa0e66789ad65b171f0",
     "grade": false,
     "grade_id": "get_version_answer",
     "locked": false,
     "solution": true
    }
   },
   "outputs": [],
   "source": [
    "def get_version(filename):\n",
    "    '''\n",
    "    Takes a file name (str) of a JSON file.\n",
    "    Returns a tuple of (\"the programming language of the kernel\", \"the version of the language\", nbformat).\n",
    "    \n",
    "    Parameters\n",
    "    ----------\n",
    "    filename (str): a JSON file.\n",
    "    \n",
    "    Returns\n",
    "    -------\n",
    "    A tuple of (str, str, int)\n",
    "    '''\n",
    "    \n",
    "    # YOUR CODE HERE\n",
    "    \n",
    "    return name, version, nbformat"
   ]
  },
  {
   "cell_type": "code",
   "execution_count": null,
   "metadata": {
    "collapsed": false,
    "deletable": false,
    "nbgrader": {
     "checksum": "3cf1aef905a1219ee14370bcb599142e",
     "grade": false,
     "grade_id": "get_version_print",
     "locked": true,
     "solution": false
    }
   },
   "outputs": [],
   "source": [
    "print(get_version('intro2ipy.ipynb'))"
   ]
  },
  {
   "cell_type": "markdown",
   "metadata": {},
   "source": [
    "Make sure that the following code cell does not produce an error."
   ]
  },
  {
   "cell_type": "code",
   "execution_count": null,
   "metadata": {
    "collapsed": false,
    "deletable": false,
    "nbgrader": {
     "checksum": "4a66481075bd2e85b021c8d25b4a2321",
     "grade": true,
     "grade_id": "get_version_test",
     "locked": true,
     "points": 8,
     "solution": false
    }
   },
   "outputs": [],
   "source": [
    "test1 = get_version('intro2ipy.ipynb')\n",
    "answer1 = ('python', '3.4.0', 4)\n",
    "\n",
    "assert_equal(test1, answer1)\n",
    "\n",
    "test2 = {\n",
    "  \"metadata\" : {\n",
    "    \"signature\": \"hex-digest\", # used for authenticating unsafe outputs on load\n",
    "    \"kernel_info\": {\n",
    "        # if kernel_info is defined, its name field is required.\n",
    "        \"name\" : \"the name of the kernel\"\n",
    "    },\n",
    "    \"language_info\": {\n",
    "        # if language_info is defined, its name field is required.\n",
    "        \"name\" : \"the programming language of the kernel\",\n",
    "        \"version\": \"the version of the language\",\n",
    "        \"codemirror_mode\": \"The name of the codemirror mode to use [optional]\"\n",
    "    }\n",
    "  },\n",
    "  \"nbformat\": 4,\n",
    "  \"nbformat_minor\": 0,\n",
    "  \"cells\" : [\n",
    "      # list of cell dictionaries, see below\n",
    "  ],\n",
    "}\n",
    "\n",
    "answer2 = (\"the programming language of the kernel\", \"the version of the language\", 4)\n",
    "\n",
    "with open('test.json', 'w') as f:\n",
    "    json.dump(test2, f)\n",
    "    \n",
    "assert_equal(get_version('test.json'), answer2)\n",
    "\n",
    "os.remove('test.json')"
   ]
  },
  {
   "cell_type": "markdown",
   "metadata": {},
   "source": [
    "## Function: count\\_code\\_cells()\n",
    "\n",
    "- Write a function named `count_code_cells()` that takes a filename (str) and a cell type (str), and returns the number count of that cell type (int)."
   ]
  },
  {
   "cell_type": "code",
   "execution_count": null,
   "metadata": {
    "collapsed": false,
    "deletable": false,
    "nbgrader": {
     "checksum": "fc5a935d68ca1a54156039603348b6fd",
     "grade": false,
     "grade_id": "count_code_cells_answer",
     "locked": false,
     "solution": true
    }
   },
   "outputs": [],
   "source": [
    "def count_code_cells(filename, cell_type):\n",
    "    '''\n",
    "    Takes a filename and a cell type, and returns the number count of that cell type.\n",
    "    \n",
    "    Parameters\n",
    "    ----------\n",
    "    filename (str): a JSON file.\n",
    "    cell_type (str): \"code\", \"markdown\", etc.\n",
    "    \n",
    "    Returns\n",
    "    -------\n",
    "    An int.\n",
    "    '''\n",
    "\n",
    "    # YOUR CODE HERE\n",
    "\n",
    "    return count"
   ]
  },
  {
   "cell_type": "code",
   "execution_count": null,
   "metadata": {
    "collapsed": false,
    "deletable": false,
    "nbgrader": {
     "checksum": "5351fdfe341275ec451f0e12218452fb",
     "grade": false,
     "grade_id": "count_code_cells_print",
     "locked": true,
     "solution": false
    }
   },
   "outputs": [],
   "source": [
    "n_code = count_code_cells('intro2ipy.ipynb', 'code')\n",
    "n_markdown = count_code_cells('intro2ipy.ipynb', 'markdown')\n",
    "\n",
    "print('There are {} code cells and {} markdown cells.'.format(n_code, n_markdown))"
   ]
  },
  {
   "cell_type": "code",
   "execution_count": null,
   "metadata": {
    "collapsed": false,
    "deletable": false,
    "nbgrader": {
     "checksum": "19a572d81bd6780291daad901c6f04a7",
     "grade": true,
     "grade_id": "count_code_cells_test",
     "locked": true,
     "points": 8,
     "solution": false
    }
   },
   "outputs": [],
   "source": [
    "assert_equal(count_code_cells('intro2ipy.ipynb', 'code'), 5)\n",
    "assert_equal(count_code_cells('intro2ipy.ipynb', 'markdown'), 16)\n",
    "\n",
    "test = {\n",
    "  \"cells\" : [\n",
    "    {\n",
    "      \"cell_type\" : \"type1\",\n",
    "      \"metadata\" : {},\n",
    "      \"source\" : \"single string or [list, of, strings]\",\n",
    "      },\n",
    "    {\n",
    "      \"cell_type\" : \"type1\",\n",
    "      \"metadata\" : {},\n",
    "      \"source\" : \"single string or [list, of, strings]\",\n",
    "      },\n",
    "    {\n",
    "      \"cell_type\" : \"type2\",\n",
    "      \"metadata\" : {},\n",
    "      \"source\" : \"single string or [list, of, strings]\",\n",
    "      }\n",
    "  ],\n",
    "} \n",
    "\n",
    "with open('test.json', 'w') as f:\n",
    "    json.dump(test, f)\n",
    "\n",
    "assert_equal(count_code_cells('test.json', 'type1'), 2)\n",
    "assert_equal(count_code_cells('test.json', 'type2'), 1)\n",
    "assert_equal(count_code_cells('test.json', 'type3'), 0)\n",
    "\n",
    "os.remove('test.json')"
   ]
  },
  {
   "cell_type": "markdown",
   "metadata": {},
   "source": [
    "## Function: get\\_nth\\_code\\_cell()\n",
    "\n",
    "- Write a function named `get_nth_code_cell()` that takes a file name (str) and an integer `n`, and returns the **source code** in the `n`-th code cell (a list of strings for each line in the source code). Note that the `cell_type` should be \"code\" (not \"markdown\").\n",
    "\n",
    "See below for examples and compare with [intro2ipy.ipynb](https://github.com/UI-DataScience/info490-fa15/blob/master/Week2/notebooks/intro2ipy.ipynb)."
   ]
  },
  {
   "cell_type": "code",
   "execution_count": null,
   "metadata": {
    "collapsed": false,
    "deletable": false,
    "nbgrader": {
     "checksum": "77787c944c87a5feceb3676ddf3fec03",
     "grade": false,
     "grade_id": "get_nth_code_cell_answer",
     "locked": false,
     "solution": true
    }
   },
   "outputs": [],
   "source": [
    "def get_nth_code_cell(filename, n):\n",
    "    '''\n",
    "    Takes a file name (str) and an integer n.\n",
    "    Returns source code of that n-th code cell.\n",
    "    \n",
    "    Parameters\n",
    "    ----------\n",
    "    filename (str): a JSON file.\n",
    "    n (int): \n",
    "    \n",
    "    Returns\n",
    "    -------\n",
    "    A list of strings.\n",
    "    '''\n",
    "\n",
    "    # YOUR CODE HERE\n",
    "    \n",
    "    return result"
   ]
  },
  {
   "cell_type": "code",
   "execution_count": null,
   "metadata": {
    "collapsed": false,
    "deletable": false,
    "nbgrader": {
     "checksum": "7cf7242ce56526ec91f2b36237544da3",
     "grade": false,
     "grade_id": "get_nth_code_cell_print",
     "locked": true,
     "solution": false
    }
   },
   "outputs": [],
   "source": [
    "print(get_nth_code_cell('intro2ipy.ipynb', 0)) # change n"
   ]
  },
  {
   "cell_type": "code",
   "execution_count": null,
   "metadata": {
    "collapsed": false,
    "deletable": false,
    "nbgrader": {
     "checksum": "53f572aadb9347e9da865ca5aa676b74",
     "grade": true,
     "grade_id": "get_nth_code_cell_test",
     "locked": true,
     "points": 8,
     "solution": false
    }
   },
   "outputs": [],
   "source": [
    "answer0 = ['%lsmagic']\n",
    "answer1 = ['print(\"Hello World!\")']\n",
    "answer2 = [\n",
    "    'import numpy as np\\n',\n",
    "   'from scipy.integrate import quad\\n',\n",
    "   '\\n',\n",
    "   'print(\"The Integral = %3.1f\" % quad(np.sin, -2.0 * np.pi, np.pi)[0])'\n",
    "]\n",
    "\n",
    "assert_equal(get_nth_code_cell('intro2ipy.ipynb', 0), answer0)\n",
    "assert_equal(get_nth_code_cell('intro2ipy.ipynb', 1), answer1)\n",
    "assert_equal(get_nth_code_cell('intro2ipy.ipynb', 2), answer2)\n",
    "\n",
    "test = {\n",
    "  \"cells\" : [\n",
    "    {\n",
    "      \"cell_type\" : \"code\",\n",
    "      \"metadata\" : {},\n",
    "      \"source\" : [\"first code\"],\n",
    "      },\n",
    "    {\n",
    "      \"cell_type\" : \"markdown\",\n",
    "      \"metadata\" : {},\n",
    "      \"source\" : [\"first markdown\"],\n",
    "      },\n",
    "    {\n",
    "      \"cell_type\" : \"markdown\",\n",
    "      \"metadata\" : {},\n",
    "      \"source\" : [\"second markdown\"],\n",
    "      },\n",
    "    {\n",
    "      \"cell_type\" : \"code\",\n",
    "      \"metadata\" : {},\n",
    "      \"source\" : [\"second code\", \"third code\"],\n",
    "      }\n",
    "  ],\n",
    "} \n",
    "\n",
    "with open('test.json', 'w') as f:\n",
    "    json.dump(test, f)\n",
    "    \n",
    "assert_equal(get_nth_code_cell('test.json', 0), ['first code'])\n",
    "assert_equal(get_nth_code_cell('test.json', 1), ['second code', 'third code'])\n",
    "\n",
    "os.remove('test.json')"
   ]
  }
 ],
 "metadata": {
  "kernelspec": {
   "display_name": "Python 3",
   "language": "python",
   "name": "python3"
  },
  "language_info": {
   "codemirror_mode": {
    "name": "ipython",
    "version": 3
   },
   "file_extension": ".py",
   "mimetype": "text/x-python",
   "name": "python",
   "nbconvert_exporter": "python",
   "pygments_lexer": "ipython3",
   "version": "3.4.0"
  }
 },
 "nbformat": 4,
 "nbformat_minor": 0
}