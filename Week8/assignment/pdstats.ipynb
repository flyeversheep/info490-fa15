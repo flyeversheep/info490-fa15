{
 "cells": [
  {
   "cell_type": "markdown",
   "metadata": {},
   "source": [
    "Before you turn this problem in, make sure everything runs as expected. First, restart the kernel (in the menubar, select Kernel → Restart) and then run all cells (in the menubar, select Cell → Run All).\n",
    "\n",
    "Make sure you fill in any place that says YOUR CODE HERE.\n",
    "Do not write your answer in anywhere else other than where it says YOUR CODE HERE.\n",
    "\n",
    "First, write your name and NetID below:"
   ]
  },
  {
   "cell_type": "code",
   "execution_count": null,
   "metadata": {
    "collapsed": true
   },
   "outputs": [],
   "source": [
    "NAME = 'WRITE YOUR NAME HERE'\n",
    "NETID = 'WRITE YOUR NETID HERE'"
   ]
  },
  {
   "cell_type": "markdown",
   "metadata": {},
   "source": [
    "# Problem 8.1. Simple Stats Using Pandas.\n",
    "\n",
    "In the previous weeks, we have seen different ways to read selected columns\n",
    "  from the census CSV file and calculate basic statistics. In this problem,\n",
    "  we will see how easy it is to perform the same task using Pandas.\n",
    "  In particular, we will rewrite `get_stats()` function from\n",
    "  [Problem 4.1](https://github.com/UI-DataScience/info490-fa15/blob/master/Week4/assignment/stats.ipynb)\n",
    "  and `get_column()` function from\n",
    "  [Problem 5.1](https://github.com/UI-DataScience/info490-fa15/blob/master/Week5/assignment/fileio.ipynb).\n",
    "  Remember, the purpose of this problem is to let you experience how easy it is\n",
    "  to make a data table using Pandas. Don't overthink it."
   ]
  },
  {
   "cell_type": "code",
   "execution_count": null,
   "metadata": {
    "collapsed": true,
    "deletable": false,
    "nbgrader": {
     "checksum": "3c8dbdb92cc9cb8896e9b8e543c258a7",
     "grade": false,
     "grade_id": "import",
     "locked": true,
     "solution": false
    }
   },
   "outputs": [],
   "source": [
    "import os\n",
    "import numpy as np\n",
    "import pandas as pd\n",
    "from nose.tools import ok_, assert_equal"
   ]
  },
  {
   "cell_type": "markdown",
   "metadata": {},
   "source": [
    "## Function: get\\_column()\n",
    "\n",
    "First, write a function named `get_column()` that takes a filename (string)\n",
    "  and a column name (string), and returns a `pandas.DataFrame`.\n",
    "  Remember that `encoding='latin-1'`.\n",
    "  \n",
    "Another useful tip: if you try to read the entire file,\n",
    "  it will take a long time.\n",
    "  Read in only one column by specifying the column you wish to read with the\n",
    "  [usecols](http://pandas.pydata.org/pandas-docs/stable/io.html#filtering-columns-usecols) option.\n",
    "  Therefore, the `get_column` function should return a DataFrame with only **one** column.\n",
    "  \n",
    "With Pandas, the `get_column()` function can be written in one line."
   ]
  },
  {
   "cell_type": "code",
   "execution_count": null,
   "metadata": {
    "collapsed": true,
    "deletable": false,
    "nbgrader": {
     "checksum": "bb9abd0a79701c30fa34c2980972434d",
     "grade": false,
     "grade_id": "get_column_answer",
     "locked": false,
     "solution": true
    }
   },
   "outputs": [],
   "source": [
    "def get_column(filename, column):\n",
    "    '''\n",
    "    Reads the specified column of airline on-time performance CSV file,\n",
    "    which is in 'latin-1' encoding.\n",
    "    Returns a Pandas DataFrame with only one column.\n",
    "    \n",
    "    Parameters\n",
    "    ----------\n",
    "    filename(str): The file name.\n",
    "    column(str): The column header.\n",
    "    \n",
    "    Returns\n",
    "    -------\n",
    "    A pandas.DataFrame object that has only column.\n",
    "    \n",
    "    Examples\n",
    "    --------\n",
    "    arr_delay = get_column('/home/data_scientist/data/2001.csv', 'ArrDelay')\n",
    "    '''\n",
    "    \n",
    "    # YOUR CODE HERE\n",
    "    \n",
    "    return df"
   ]
  },
  {
   "cell_type": "code",
   "execution_count": null,
   "metadata": {
    "collapsed": false,
    "deletable": false,
    "nbgrader": {
     "checksum": "3a805e1b9c1997abdb789be0ed390289",
     "grade": true,
     "grade_id": "get_column_test",
     "locked": true,
     "points": 15,
     "solution": false
    }
   },
   "outputs": [],
   "source": [
    "csv_with_header = '''\n",
    "Year,Month,DayofMonth,DayOfWeek,DepTime,CRSDepTime,ArrTime,CRSArrTime,UniqueCarrier,FlightNum,TailNum,ActualElapsedTime,CRSElapsedTime,AirTime,ArrDelay,DepDelay,Origin,Dest,Distance,TaxiIn,TaxiOut,Cancelled,CancellationCode,Diverted,CarrierDelay,WeatherDelay,NASDelay,SecurityDelay,LateAircraftDelay\n",
    "2001,1,17,3,1806,1810,1931,1934,US,375,N700äæ,85,84,60,-3,-4,BWI,CLT,361,5,20,0,NA,0,NA,NA,NA,NA,1\n",
    "2001,1,18,4,1805,1810,1938,1934,US,375,N713äæ,93,84,64,4,-5,BWI,CLT,361,9,20,0,NA,0,NA,NA,NA,NA,1\n",
    "2001,1,19,5,1821,1810,1957,1934,US,375,N702äæ,96,84,80,23,11,BWI,CLT,361,6,10,0,NA,0,NA,NA,NA,NA,NA\n",
    "2001,1,20,6,1807,1810,1944,1934,US,375,N701äæ,97,84,66,10,-3,BWI,CLT,361,4,27,0,NA,0,NA,NA,NA,NA,NA\n",
    "'''.strip().encode('latin-1')\n",
    "\n",
    "csv_no_header = '''\n",
    "2001,1,17,3,1806,1810,1931,1934,US,375,N700äæ,85,84,60,-3,-4,BWI,CLT,361,5,20,0,NA,0,NA,NA,NA,NA,1\n",
    "2001,1,18,4,1805,1810,1938,1934,US,375,N713äæ,93,84,64,4,-5,BWI,CLT,361,9,20,0,NA,0,NA,NA,NA,NA,1\n",
    "2001,1,19,5,1821,1810,1957,1934,US,375,N702äæ,96,84,80,23,11,BWI,CLT,361,6,10,0,NA,0,NA,NA,NA,NA,NA\n",
    "2001,1,20,6,1807,1810,1944,1934,US,375,N701äæ,97,84,66,10,-3,BWI,CLT,361,4,27,0,NA,0,NA,NA,NA,NA,NA\n",
    "2001,1,21,7,1810,1810,1954,1934,US,375,N768äæ,104,84,62,20,0,BWI,CLT,361,4,38,0,NA,0,NA,NA,NA,NA,1\n",
    "'''.strip().encode('latin-1')\n",
    "\n",
    "with open('test.header.csv', 'wb') as f:\n",
    "    f.write(csv_with_header)\n",
    "    \n",
    "with open('test.noheader.csv', 'wb') as f:\n",
    "    f.write(csv_no_header)\n",
    "\n",
    "# header cases\n",
    "ok_(\n",
    "    get_column('test.header.csv', 'Year').equals(\n",
    "        pd.DataFrame(data=[2001] * 4, columns=['Year'])\n",
    "    ))\n",
    "ok_(\n",
    "    get_column('test.header.csv', 'DayofMonth').equals(\n",
    "        pd.DataFrame(data=list(range(17, 21)), columns=['DayofMonth'])\n",
    "    ))\n",
    "ok_(\n",
    "    get_column('test.header.csv', 'DepTime').equals(\n",
    "        pd.DataFrame(data=[1806, 1805, 1821, 1807], columns=['DepTime'])\n",
    "    ))\n",
    "ok_(\n",
    "    get_column('test.header.csv', 'SecurityDelay').equals(\n",
    "        pd.DataFrame(data=[np.nan] * 4, columns=['SecurityDelay'])\n",
    "    ))\n",
    "ok_(\n",
    "    get_column('test.header.csv', 'LateAircraftDelay').equals(\n",
    "        pd.DataFrame(data=[1, 1, np.nan, np.nan], columns=['LateAircraftDelay'])\n",
    "    ))\n",
    "\n",
    "# clean up\n",
    "os.remove('test.header.csv')\n",
    "os.remove('test.noheader.csv')"
   ]
  },
  {
   "cell_type": "markdown",
   "metadata": {},
   "source": [
    "## Function: get\\_stats()\n",
    "\n",
    "Next, write a function named `get_stats()` that takes a `pandas.DataFrame`\n",
    "  and a column name (string), and return the minimum, maximum, mean,\n",
    "  and median (all floats) of the column."
   ]
  },
  {
   "cell_type": "code",
   "execution_count": null,
   "metadata": {
    "collapsed": true,
    "deletable": false,
    "nbgrader": {
     "checksum": "fc1de4454f480613b8666d7195b51fa8",
     "grade": false,
     "grade_id": "get_stats_answer",
     "locked": false,
     "solution": true
    }
   },
   "outputs": [],
   "source": [
    "def get_stats(df, column):\n",
    "    '''\n",
    "    Calculates the mininum, maximum, mean, and median values\n",
    "    of a column from a Pandas DataFrame object.\n",
    "    \n",
    "    Parameters\n",
    "    ----------\n",
    "    df(pandas.DataFrame): A Pandas DataFrame.\n",
    "    column(str): The column header.\n",
    "    \n",
    "    Returns\n",
    "    -------\n",
    "    minimum(float)\n",
    "    maximum(float)\n",
    "    mean(float)\n",
    "    median(float)\n",
    "    '''\n",
    "    \n",
    "    # YOUR CODE HERE\n",
    "    \n",
    "    return minimum, maximum, mean, median"
   ]
  },
  {
   "cell_type": "code",
   "execution_count": null,
   "metadata": {
    "collapsed": false,
    "deletable": false,
    "nbgrader": {
     "checksum": "b04765fa38cad7dd6223581cb4a44a46",
     "grade": true,
     "grade_id": "get_stats_test",
     "locked": true,
     "points": 15,
     "solution": false
    }
   },
   "outputs": [],
   "source": [
    "data1 = {\n",
    "    'A': [0, 1, 2, 3, 4],\n",
    "    'B': [1, 2, 3, 4, np.nan], # append NaN since we need same number of elements\n",
    "    'C': [4, 3, 2, 1, 0],\n",
    "    'D': [4, 1, 0, 2, 3]\n",
    "    }\n",
    "df1= pd.DataFrame(data1)\n",
    "\n",
    "assert_equal(get_stats(df1, 'A'), (0, 4, 2, 2))\n",
    "assert_equal(get_stats(df1, 'B'), (1, 4, 2.5, 2.5))\n",
    "assert_equal(get_stats(df1, 'C'), (0, 4, 2, 2))\n",
    "assert_equal(get_stats(df1, 'D'), (0, 4, 2, 2))\n",
    "\n",
    "data2 = {\n",
    "    'E': np.append(np.arange(51), np.nan), # append NaN since we need same number of elements\n",
    "    'F': np.arange(52)\n",
    "}\n",
    "df2 = pd.DataFrame(data2)\n",
    "\n",
    "assert_equal(get_stats(df2, 'E'), (0, 50, 25.0, 25.0))\n",
    "assert_equal(get_stats(df2, 'F'), (0, 51, 25.5, 25.5))\n",
    "\n",
    "# shuffle rows in df2\n",
    "df3 = df2.reindex(np.random.permutation(df2.index))\n",
    "assert_equal(get_stats(df2, 'E'), (0, 50, 25.0, 25.0))\n",
    "assert_equal(get_stats(df2, 'F'), (0, 51, 25.5, 25.5))"
   ]
  }
 ],
 "metadata": {
  "kernelspec": {
   "display_name": "Python 3",
   "language": "python",
   "name": "python3"
  },
  "language_info": {
   "codemirror_mode": {
    "name": "ipython",
    "version": 3
   },
   "file_extension": ".py",
   "mimetype": "text/x-python",
   "name": "python",
   "nbconvert_exporter": "python",
   "pygments_lexer": "ipython3",
   "version": "3.4.0"
  }
 },
 "nbformat": 4,
 "nbformat_minor": 0
}
