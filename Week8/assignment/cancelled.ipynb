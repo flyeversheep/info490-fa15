{
 "cells": [
  {
   "cell_type": "markdown",
   "metadata": {},
   "source": [
    "Before you turn this problem in, make sure everything runs as expected. First, restart the kernel (in the menubar, select Kernel → Restart) and then run all cells (in the menubar, select Cell → Run All).\n",
    "\n",
    "Make sure you fill in any place that says YOUR CODE HERE.\n",
    "Do not write your answer in anywhere else other than where it says YOUR CODE HERE.\n",
    "\n",
    "First, write your name and NetID below:"
   ]
  },
  {
   "cell_type": "code",
   "execution_count": null,
   "metadata": {
    "collapsed": true
   },
   "outputs": [],
   "source": [
    "NAME = 'WRITE YOUR NAME HERE'\n",
    "NETID = 'WRITE YOUR NETID HERE'"
   ]
  },
  {
   "cell_type": "markdown",
   "metadata": {},
   "source": [
    "# Problem 8.2. Flight Cancellations by Month.\n",
    "\n",
    "In this problem, you will use Panda's\n",
    "  [groupby()](http://pandas.pydata.org/pandas-docs/stable/groupby.html)\n",
    "  and [aggregate()](http://pandas.pydata.org/pandas-docs/stable/groupby.html#aggregation)\n",
    "  functions to compute and plot the number of flight cancellations\n",
    "  in each month of 2001."
   ]
  },
  {
   "cell_type": "code",
   "execution_count": null,
   "metadata": {
    "collapsed": false,
    "deletable": false,
    "nbgrader": {
     "checksum": "5ef9393068023e651d38b58674cff823",
     "grade": false,
     "grade_id": "import",
     "locked": true,
     "solution": false
    }
   },
   "outputs": [],
   "source": [
    "%matplotlib inline\n",
    "\n",
    "import numpy as np\n",
    "import pandas as pd\n",
    "import matplotlib.pyplot as plt\n",
    "import seaborn as sns\n",
    "\n",
    "from nose.tools import ok_"
   ]
  },
  {
   "cell_type": "markdown",
   "metadata": {},
   "source": [
    "## Function: get_month_cancelled()\n",
    "\n",
    "First, write a function named `get_month_cancelled()` that takes a filename (str)\n",
    "  and returns a `pd.DataFrame` that is indexed by the **names** of the months\n",
    "  and has only one column `Cancelled`, the number of flight cancellations in each month.\n",
    "\n",
    "- Don't forget to set the `encoding` option.\n",
    "- Again, if you try to read in all 29 columns, your code will be very slow.\n",
    "  Use `usecols` to read only two columns, `Month` and `Cancelled`.\n",
    "- If you don't set the indices, they will be just numbers, e.g. 0, 1, 2...\n",
    "  Use the following list to set the indices.\n",
    "  ```python\n",
    "  ['January', 'February', 'March', 'April', 'May', 'June',\n",
    "   'July', 'August', 'September', 'October', 'November', 'December']\n",
    "  ```"
   ]
  },
  {
   "cell_type": "code",
   "execution_count": null,
   "metadata": {
    "collapsed": false,
    "deletable": false,
    "nbgrader": {
     "checksum": "f1c195fb0ab6349de50b7751d7e4aec4",
     "grade": false,
     "grade_id": "get_month_cancelled_answer",
     "locked": false,
     "solution": true
    }
   },
   "outputs": [],
   "source": [
    "def get_month_cancelled(filename):\n",
    "    '''\n",
    "    Reads the \"Month\" and \"Cancelled\" columns of a CSV file\n",
    "    and returns a Pandas DataFrame with only one column \"Cancelled\"\n",
    "    indexed by the months.\n",
    "    \n",
    "    Parameters\n",
    "    ----------\n",
    "    filename(str): The filename of the CSV file.\n",
    "    \n",
    "    Returns\n",
    "    -------\n",
    "    pandas.DataFrame: \"Cancelled\" column, indexed by names of the months\n",
    "    '''\n",
    "    \n",
    "    # YOUR CODE HERE\n",
    "    \n",
    "    return month_cancelled"
   ]
  },
  {
   "cell_type": "markdown",
   "metadata": {},
   "source": [
    "When you call `get_month_cancelled(CSV_PATH)`, you should get\n",
    "\n",
    "               Cancelled\n",
    "    January        19891\n",
    "    February       17448\n",
    "    March          17876\n",
    "    April          11414\n",
    "    May             9452\n",
    "    June           15509\n",
    "    July           11286\n",
    "    August         13318\n",
    "    September      99324\n",
    "    October         6850\n",
    "    November        4497\n",
    "    December        4333"
   ]
  },
  {
   "cell_type": "code",
   "execution_count": null,
   "metadata": {
    "collapsed": false,
    "deletable": false,
    "nbgrader": {
     "checksum": "6c3e9b52a75ace8648438e38ecc1c057",
     "grade": false,
     "grade_id": "print_month_cancelled",
     "locked": true,
     "solution": false
    }
   },
   "outputs": [],
   "source": [
    "CSV_PATH = '/home/data_scientist/data/2001.csv' # edit the path if necessary\n",
    "\n",
    "month_cancelled = get_month_cancelled(CSV_PATH)\n",
    "print(month_cancelled)"
   ]
  },
  {
   "cell_type": "markdown",
   "metadata": {},
   "source": [
    "You should verify that your function passes the following test."
   ]
  },
  {
   "cell_type": "code",
   "execution_count": null,
   "metadata": {
    "collapsed": false,
    "deletable": false,
    "nbgrader": {
     "checksum": "98efe38d10787c5b6a94ce40e77a3d0b",
     "grade": true,
     "grade_id": "month_cancelled_test",
     "locked": true,
     "points": 20,
     "solution": false
    }
   },
   "outputs": [],
   "source": [
    "answer = pd.DataFrame(\n",
    "    [19891, 17448, 17876, 11414,\n",
    "     9452, 15509, 11286, 13318,\n",
    "     99324, 6850, 4497, 4333],\n",
    "    index=['January', 'February', 'March', 'April',\n",
    "           'May', 'June', 'July', 'August',\n",
    "           'September', 'October', 'November', 'December'],\n",
    "    columns=['Cancelled']\n",
    "    )\n",
    "\n",
    "ok_(month_cancelled.equals(answer))"
   ]
  },
  {
   "cell_type": "markdown",
   "metadata": {},
   "source": [
    "## Plot\n",
    "\n",
    "In the following code cell, plot the number of cancellations for each month. Here's an example:\n",
    "\n",
    "![](https://raw.githubusercontent.com/UI-DataScience/info490-fa15/master/Week8/assignment/month_cancelled.png)"
   ]
  },
  {
   "cell_type": "code",
   "execution_count": null,
   "metadata": {
    "collapsed": false,
    "deletable": false,
    "nbgrader": {
     "checksum": "688ed6f73f7daadc64dd1cd376cafd8a",
     "grade": true,
     "grade_id": "plot_month_cancelled",
     "locked": false,
     "points": 10,
     "solution": true
    }
   },
   "outputs": [],
   "source": [
    "# YOUR CODE HERE"
   ]
  }
 ],
 "metadata": {
  "kernelspec": {
   "display_name": "Python 3",
   "language": "python",
   "name": "python3"
  },
  "language_info": {
   "codemirror_mode": {
    "name": "ipython",
    "version": 3
   },
   "file_extension": ".py",
   "mimetype": "text/x-python",
   "name": "python",
   "nbconvert_exporter": "python",
   "pygments_lexer": "ipython3",
   "version": "3.4.0"
  }
 },
 "nbformat": 4,
 "nbformat_minor": 0
}
