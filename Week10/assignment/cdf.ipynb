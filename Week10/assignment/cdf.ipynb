{
 "cells": [
  {
   "cell_type": "markdown",
   "metadata": {},
   "source": [
    "Before you turn this problem in, make sure everything runs as expected. First, restart the kernel (in the menubar, select Kernel → Restart) and then run all cells (in the menubar, select Cell → Run All).\n",
    "\n",
    "Make sure you fill in any place that says YOUR CODE HERE.\n",
    "Do not write your answer in anywhere else other than where it says YOUR CODE HERE.\n",
    "\n",
    "First, write your name and NetID below:"
   ]
  },
  {
   "cell_type": "code",
   "execution_count": null,
   "metadata": {
    "collapsed": true
   },
   "outputs": [],
   "source": [
    "NAME = 'WRITE YOUR NAME HERE'\n",
    "NETID = 'WRITE YOUR NETID HERE'"
   ]
  },
  {
   "cell_type": "markdown",
   "metadata": {},
   "source": [
    "## Problem 10.1. PMF and CDF.\n",
    "\n",
    "In this problem, we will compute and plot the probability mass function (PMF) and the cumulative distribution function (CDF) of arrival delay."
   ]
  },
  {
   "cell_type": "code",
   "execution_count": null,
   "metadata": {
    "collapsed": true
   },
   "outputs": [],
   "source": [
    "%matplotlib inline"
   ]
  },
  {
   "cell_type": "code",
   "execution_count": null,
   "metadata": {
    "collapsed": false
   },
   "outputs": [],
   "source": [
    "import numpy as np\n",
    "import pandas as pd\n",
    "import seaborn as sns\n",
    "import matplotlib.pyplot as plt"
   ]
  },
  {
   "cell_type": "code",
   "execution_count": null,
   "metadata": {
    "collapsed": false,
    "deletable": false,
    "nbgrader": {
     "checksum": "94cdbe931d5b0a5463aff86d437781b1",
     "grade": false,
     "grade_id": "read_csv",
     "locked": true,
     "solution": false
    }
   },
   "outputs": [],
   "source": [
    "df = pd.read_csv(\n",
    "    \"/home/data_scientist/data/2001.csv\", # edit this path if necessary\n",
    "    encoding=\"latin-1\",\n",
    "    usecols=[\"DepDelay\"]\n",
    "    )"
   ]
  },
  {
   "cell_type": "markdown",
   "metadata": {},
   "source": [
    "Note: The plots shown as examples in the instructions are just examples, not the answers. Your plots may look different (within reasonable limits of course). You probably should not try to make your plot look exactly the same as my plots.\n",
    "\n",
    "## Plot: Probability Mass Function\n",
    "\n",
    "- In the following cell, plot the PMF of departure delay.\n",
    "\n",
    "Note that Pandas will automatically replace missing values `'NA'` with `numpy.nan` or `NaN` (Not A Number). You have to remove rows with missing values."
   ]
  },
  {
   "cell_type": "code",
   "execution_count": null,
   "metadata": {
    "collapsed": false,
    "deletable": false,
    "nbgrader": {
     "checksum": "4e12533afeb1d762a6fe56520b903c64",
     "grade": true,
     "grade_id": "plot_pmf",
     "locked": false,
     "points": 10,
     "solution": true
    }
   },
   "outputs": [],
   "source": [
    "def plot_pmf(df, column, nbins=200):\n",
    "    \"\"\"\n",
    "    Plots the PMF of the specified column of the input Pandas dataframe.\n",
    "    \n",
    "    Parameters\n",
    "    ----------\n",
    "    df (pandas.DataFrame): input dataframe.\n",
    "    column (str): target column\n",
    "    \n",
    "    Returns\n",
    "    -------\n",
    "    None\n",
    "    \"\"\"\n",
    "    # YOUR CODE HERE\n",
    "    \n",
    "    return None"
   ]
  },
  {
   "cell_type": "markdown",
   "metadata": {},
   "source": [
    "In the following cells, we plot two PMFs using two different number of bins. First, using 50 bins, I get\n",
    "![](https://raw.githubusercontent.com/UI-DataScience/info490-fa15/master/Week10/assignment/pmf_50.png)"
   ]
  },
  {
   "cell_type": "code",
   "execution_count": null,
   "metadata": {
    "collapsed": false
   },
   "outputs": [],
   "source": [
    "plot_pmf(df, \"DepDelay\", nbins=50)"
   ]
  },
  {
   "cell_type": "markdown",
   "metadata": {},
   "source": [
    "And using 200 bins, I get\n",
    "\n",
    "![](https://raw.githubusercontent.com/UI-DataScience/info490-fa15/master/Week10/assignment/pmf_200.png)"
   ]
  },
  {
   "cell_type": "code",
   "execution_count": null,
   "metadata": {
    "collapsed": false
   },
   "outputs": [],
   "source": [
    "plot_pmf(df, \"DepDelay\", nbins=200)"
   ]
  },
  {
   "cell_type": "markdown",
   "metadata": {},
   "source": [
    "The shape of PMF depends a lot on the size of the bins, and the plots look a little different. It can be tricky to get the size of the bins right. Furthermore, parts of these figures are hard to interpret due to spikes.\n",
    "\n",
    "The CDF avoids these problems.\n",
    "\n",
    "## Cumulative Distribution Function\n",
    "\n",
    "## Function: get\\_cdf()\n",
    "\n",
    "- Write a function named `get_cdf()` that takes an array and returns a tuple that represents the $x$ and $y$ axes of the (empirical) CDF.\n",
    "\n",
    "According to [Wikipedia](http://en.wikipedia.org/wiki/Empirical_distribution_function), the definition of\n",
    "  [empirical distribution function](http://en.wikipedia.org/wiki/Empirical_distribution_function) is given by\n",
    "  \n",
    "  $\\text{CDF} (t) = \\frac{1}{n} \\cdot \\left (\\text{number of elements in the sample} \\leq t \\right)$\n",
    "\n",
    "So, given an array, e.g. `[1, 2, 2, 3, 5]`, you could go through each value and count the number of elements smaller than 1, smaller than 2, etc. But this method will be very inefficient and slow when the input array is very large. In Python, when you are dealing with numerical operations on a potentially huge array, you should think Numpy (because the `for` loop of pure Python is very slow and often leads to code that is difficult to read and maintain).\n",
    "  \n",
    "Here is a faster algorithm to produce the empirical CDF. As an example, suppose the array has values, `[2, 1, 2, 5, 3]`.\n",
    "\n",
    "1. Use [`numpy.sort()`](http://docs.scipy.org/doc/numpy/reference/generated/numpy.sort.html) to sort the array (with no missing values) in ascending order. In our case, when we sort the input array, we have\n",
    "```\n",
    "[1, 2, 2, 3, 5]\n",
    "```\n",
    "This will be our $x$-axis of CDF.\n",
    "\n",
    "2. Create an array of $0, \\frac{1}{N}$, $\\frac{2}{N}$, ..., $1 - \\frac{1}{N}$, where $N$ is the length of the input array (5 in our case). In our case, this array is\n",
    "```\n",
    "[0.0, 0.2, 0.4, 0.6, 0.8]\n",
    "```\n",
    "This will be our $y$-axis. All you have to do is use `np.arange()` to make an array of length $N$, and divide each element by $N$.\n",
    "\n",
    "3. Use the $x$-axis from Step 1 (`[1, 2, 2, 3, 5]`) and the $y$-axis from Step 2 (`[0.0, 0.2, 0.4, 0.6, 0.8]`) to plot the CDF:\n",
    "![](https://raw.githubusercontent.com/UI-DataScience/info490-fa15/master/Week10/assignment/cdf_short.png)\n",
    "Our list is short and simple, so we can count the values to verify that the CDF looks correct.\n",
    "```\n",
    "CDF(0) = 0 \n",
    "CDF(1) = 0.2\n",
    "CDF(2) = 0.6\n",
    "CDF(3) = 0.8\n",
    "CDF(4) = 0.8\n",
    "CDF(5) = 1\n",
    "```\n",
    "\n",
    "According to Wikipedia, the resulting empirical CDF is an unbiased estimator for the true CDF.\n",
    "\n",
    "Note: Do NOT use numpy.histogram() function to create a CDF.\n",
    "  It uses binning, which might be useful in other cases but not in this case.\n",
    "  The method I outlined above is a better characterization of the true CDF."
   ]
  },
  {
   "cell_type": "code",
   "execution_count": null,
   "metadata": {
    "collapsed": false,
    "deletable": false,
    "nbgrader": {
     "checksum": "46c101ec815b98321d01608bf76c8adf",
     "grade": false,
     "grade_id": "get_cdf_answer",
     "locked": false,
     "solution": true
    }
   },
   "outputs": [],
   "source": [
    "def get_cdf(df, column):\n",
    "    '''\n",
    "    Reads a specific column of a Pandas DataFrame,\n",
    "    and returns a tuple of arrays that represent the x and y axes of\n",
    "    cumulative distribution function.\n",
    "    \n",
    "    Parameters\n",
    "    ----------\n",
    "    df (pandas.DataFrame): A pandas.DataFrame.\n",
    "    column (str): The header of the target column in df.\n",
    "    \n",
    "    Returns\n",
    "    -------\n",
    "    A tuple of two numpy arrays of equal length.\n",
    "    The first array represents the x axis of CDF.\n",
    "    The second array represents the y axis of CDF.\n",
    "    '''\n",
    "    \n",
    "    # YOUR CODE HERE\n",
    "    \n",
    "    return cdf_x, cdf_y"
   ]
  },
  {
   "cell_type": "markdown",
   "metadata": {},
   "source": [
    "Make sure that your function passes all the tests."
   ]
  },
  {
   "cell_type": "code",
   "execution_count": null,
   "metadata": {
    "collapsed": false,
    "deletable": false,
    "nbgrader": {
     "checksum": "b68c52e947fcb03b9457671dd94bf682",
     "grade": true,
     "grade_id": "get_cdf_test",
     "locked": true,
     "points": 10,
     "solution": false
    }
   },
   "outputs": [],
   "source": [
    "test1 = pd.DataFrame(\n",
    "    {\n",
    "        \"a\": [1, 2, 2, 3, 5],\n",
    "        \"b\": [3, 2, 5, 1, 2],\n",
    "        }\n",
    "    )\n",
    "\n",
    "answer1 = np.array([1, 2, 2, 3, 5]), np.array([0.0, 0.2, 0.4, 0.6, 0.8])\n",
    "\n",
    "np.testing.assert_allclose(get_cdf(test1, \"a\")[0], answer1[0])\n",
    "np.testing.assert_allclose(get_cdf(test1, \"a\")[1], answer1[1])\n",
    "\n",
    "np.testing.assert_allclose(get_cdf(test1, \"b\")[0], answer1[0])\n",
    "np.testing.assert_allclose(get_cdf(test1, \"b\")[1], answer1[1])\n",
    "\n",
    "test2 = pd.DataFrame(\n",
    "    {\n",
    "        \"c\": [1, 2, 2, 3, 5, np.nan],\n",
    "        \"d\": [3, 2, 5, np.nan, 2, 1],\n",
    "        }\n",
    "    )\n",
    "\n",
    "answer2 = np.array([1, 2, 2, 3, 5]), np.array([0.0, 0.2, 0.4, 0.6, 0.8])\n",
    "\n",
    "np.testing.assert_allclose(get_cdf(test2, \"c\")[0], answer2[0])\n",
    "np.testing.assert_allclose(get_cdf(test2, \"c\")[1], answer2[1])\n",
    "\n",
    "np.testing.assert_allclose(get_cdf(test2, \"d\")[0], answer2[0])\n",
    "np.testing.assert_allclose(get_cdf(test2, \"d\")[1], answer2[1])"
   ]
  },
  {
   "cell_type": "markdown",
   "metadata": {},
   "source": [
    "## Plot: CDF\n",
    "\n",
    "- Use the `get_cdf()` function to create a CDF of the `ArrDelay` column in `2001.csv`. Here's an example:\n",
    "\n",
    "![](https://raw.githubusercontent.com/UI-DataScience/info490-fa15/master/Week10/assignment/cdf_arrival_delay.png)"
   ]
  },
  {
   "cell_type": "code",
   "execution_count": null,
   "metadata": {
    "collapsed": false,
    "deletable": false,
    "nbgrader": {
     "checksum": "db9aeac87dab24f87cddb660e5cf000e",
     "grade": true,
     "grade_id": "plot_cdf",
     "locked": false,
     "points": 10,
     "solution": true
    }
   },
   "outputs": [],
   "source": [
    "# YOUR CODE HERE"
   ]
  }
 ],
 "metadata": {
  "kernelspec": {
   "display_name": "Python 3",
   "language": "python",
   "name": "python3"
  },
  "language_info": {
   "codemirror_mode": {
    "name": "ipython",
    "version": 3
   },
   "file_extension": ".py",
   "mimetype": "text/x-python",
   "name": "python",
   "nbconvert_exporter": "python",
   "pygments_lexer": "ipython3",
   "version": "3.4.0"
  }
 },
 "nbformat": 4,
 "nbformat_minor": 0
}