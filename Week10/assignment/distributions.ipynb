{
 "cells": [
  {
   "cell_type": "markdown",
   "metadata": {},
   "source": [
    "Before you turn this problem in, make sure everything runs as expected. First, restart the kernel (in the menubar, select Kernel → Restart) and then run all cells (in the menubar, select Cell → Run All).\n",
    "\n",
    "Make sure you fill in any place that says YOUR CODE HERE.\n",
    "Do not write your answer in anywhere else other than where it says YOUR CODE HERE.\n",
    "\n",
    "First, write your name and NetID below:"
   ]
  },
  {
   "cell_type": "code",
   "execution_count": null,
   "metadata": {
    "collapsed": true
   },
   "outputs": [],
   "source": [
    "NAME = 'WRITE YOUR NAME HERE'\n",
    "NETID = 'WRITE YOUR NETID HERE'"
   ]
  },
  {
   "cell_type": "markdown",
   "metadata": {},
   "source": [
    "# Problem 10.2. Visualizing Distributions.\n",
    "\n",
    "Note: The plots shown as examples in the instructions are just examples, not the answers. Your plots may look different (within reasonable limits of course). You probably should not try to make your plot look exactly the same as the examples in this notebook."
   ]
  },
  {
   "cell_type": "code",
   "execution_count": null,
   "metadata": {
    "collapsed": true
   },
   "outputs": [],
   "source": [
    "%matplotlib inline"
   ]
  },
  {
   "cell_type": "code",
   "execution_count": null,
   "metadata": {
    "collapsed": true
   },
   "outputs": [],
   "source": [
    "import numpy as np\n",
    "import pandas as pd\n",
    "import seaborn as sns\n",
    "import matplotlib.pyplot as plt"
   ]
  },
  {
   "cell_type": "markdown",
   "metadata": {},
   "source": [
    "- Specify the columns you want to read from the `2001.csv` file by modifying the `columns` variable in the following code cell. You may pick any two or more columns that you think are correlated."
   ]
  },
  {
   "cell_type": "code",
   "execution_count": null,
   "metadata": {
    "collapsed": true,
    "deletable": false,
    "nbgrader": {
     "checksum": "a1ad3355cd13f258805cc067bb64e36c",
     "grade": true,
     "grade_id": "columns",
     "locked": false,
     "points": 1,
     "solution": true
    }
   },
   "outputs": [],
   "source": [
    "columns = [\n",
    "    # YOUR CODE HERE\n",
    "]"
   ]
  },
  {
   "cell_type": "markdown",
   "metadata": {},
   "source": [
    "- In the following code cell, modify **only** the file path string. Do **not** edit anything else."
   ]
  },
  {
   "cell_type": "code",
   "execution_count": null,
   "metadata": {
    "collapsed": false,
    "deletable": false,
    "nbgrader": {
     "checksum": "7a79864a160a8933b16d25e9a83f4eb0",
     "grade": false,
     "grade_id": "read_csv",
     "locked": true,
     "solution": false
    }
   },
   "outputs": [],
   "source": [
    "# edit only the file path below, do not edit anything else\n",
    "df = pd.read_csv(\n",
    "    \"/home/data_scientist/data/2001.csv\", # edit path if necessary\n",
    "    encoding=\"latin-1\",\n",
    "    usecols=columns # do not edit usecols, edit \"columns\" instead\n",
    ")"
   ]
  },
  {
   "cell_type": "markdown",
   "metadata": {},
   "source": [
    "## Plot: Kernel density estimation\n",
    "\n",
    "- Use [seaborn.distplot()](http://stanford.edu/~mwaskom/software/seaborn/generated/seaborn.distplot.html#seaborn.distplot) or [seaborn.kdeplot()](http://stanford.edu/~mwaskom/software/seaborn/generated/seaborn.kdeplot.html#seaborn.kdeplot) to plot a kernel denstiy estimate of any column in `2001.csv`.\n",
    "\n",
    "Here's an example:\n",
    "![](https://raw.githubusercontent.com/UI-DataScience/info490-fa15/master/Week10/assignment/kde.png)"
   ]
  },
  {
   "cell_type": "code",
   "execution_count": null,
   "metadata": {
    "collapsed": false,
    "deletable": false,
    "nbgrader": {
     "checksum": "ed3bc8cb6ca543fae918484251fae0fe",
     "grade": true,
     "grade_id": "kde",
     "locked": false,
     "points": 10,
     "solution": true
    }
   },
   "outputs": [],
   "source": [
    "# YOUR CODE HERE"
   ]
  },
  {
   "cell_type": "markdown",
   "metadata": {},
   "source": [
    "## Plot: Hexbin plots\n",
    "\n",
    "- Pick any two columns, and use [seaborn.jointplot()](http://stanford.edu/~mwaskom/software/seaborn/generated/seaborn.jointplot.html#seaborn.jointplot) or [seaborn.JointGrid](http://stanford.edu/~mwaskom/software/seaborn/generated/seaborn.JointGrid.html#seaborn.JointGrid) to create a hexbin plot.\n",
    "\n",
    "Example:\n",
    "![](https://raw.githubusercontent.com/UI-DataScience/info490-fa15/master/Week10/assignment/hexbin.png)"
   ]
  },
  {
   "cell_type": "code",
   "execution_count": null,
   "metadata": {
    "collapsed": false,
    "deletable": false,
    "nbgrader": {
     "checksum": "228148e2b7478b458abd2485d3a1e854",
     "grade": true,
     "grade_id": "hexbin",
     "locked": false,
     "points": 10,
     "solution": true
    }
   },
   "outputs": [],
   "source": [
    "# YOUR CODE HERE"
   ]
  },
  {
   "cell_type": "markdown",
   "metadata": {
    "nbgrader": {
     "grade": false,
     "locked": false,
     "solution": false
    }
   },
   "source": [
    "## Plot: Visualizing pairwise relationships\n",
    "\n",
    "- Pick at least **three** columns, and use [seaborn.pairplot()](http://stanford.edu/~mwaskom/software/seaborn/generated/seaborn.pairplot.html#seaborn.pairplot) or [seaborn.PairGrid](http://stanford.edu/~mwaskom/software/seaborn/generated/seaborn.PairGrid.html#seaborn.PairGrid) to plot pairwise bivariate distributions of at least three variables.\n",
    "\n",
    "Example:\n",
    "![](https://raw.githubusercontent.com/UI-DataScience/info490-fa15/master/Week10/assignment/pairplot.png)\n",
    "\n",
    "Hint: If you include scatter plots in the pair plot and try to plot all 6 million points of 2001.csv, it will likely result in a memory error because there is not space in memory to load all 6 million times $\\times N$ data points. Sample a random subset of the data set to put in the plot. For example, one way to sample a random subset is to use [numpy.random.choice()](http://docs.scipy.org/doc/numpy/reference/generated/numpy.random.choice.html) to sample (without replacement) a certain number of incides of the data frame, and use [Pandas indexing](http://pandas.pydata.org/pandas-docs/version/0.15.2/indexing.html#different-choices-for-indexing) to pass those indices to the original data frame.\n",
    "\n",
    "```python\n",
    ">>> df.loc[np.random.choice(df.index, N, replace=False)\n",
    "```\n",
    "\n",
    "where you will have to specify N. Experiment with different values to "
   ]
  },
  {
   "cell_type": "code",
   "execution_count": null,
   "metadata": {
    "collapsed": false,
    "deletable": false,
    "nbgrader": {
     "checksum": "59262ebd0abb79572474645a100e1d2b",
     "grade": true,
     "grade_id": "pairplot",
     "locked": false,
     "points": 10,
     "solution": true
    }
   },
   "outputs": [],
   "source": [
    "# YOUR CODE HERE"
   ]
  }
 ],
 "metadata": {
  "kernelspec": {
   "display_name": "Python 3",
   "language": "python",
   "name": "python3"
  },
  "language_info": {
   "codemirror_mode": {
    "name": "ipython",
    "version": 3
   },
   "file_extension": ".py",
   "mimetype": "text/x-python",
   "name": "python",
   "nbconvert_exporter": "python",
   "pygments_lexer": "ipython3",
   "version": "3.4.0"
  }
 },
 "nbformat": 4,
 "nbformat_minor": 0
}