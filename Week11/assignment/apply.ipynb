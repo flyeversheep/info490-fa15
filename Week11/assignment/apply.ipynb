{
 "cells": [
  {
   "cell_type": "markdown",
   "metadata": {},
   "source": [
    "Before you turn this problem in, make sure everything runs as expected. First, restart the kernel (in the menubar, select Kernel → Restart) and then run all cells (in the menubar, select Cell → Run All).\n",
    "Make sure you fill in any place that says YOUR CODE HERE. Do not write your answer in anywhere else other than where it says YOUR CODE HERE.\n",
    "\n",
    "First, write your name and NetID below:"
   ]
  },
  {
   "cell_type": "code",
   "execution_count": null,
   "metadata": {
    "collapsed": true
   },
   "outputs": [],
   "source": [
    "NAME = 'WRITE YOUR NAME HERE'\n",
    "NETID = 'WRITE YOUR NETID HERE'"
   ]
  },
  {
   "cell_type": "markdown",
   "metadata": {},
   "source": [
    "# Problem 11.1. Function Application in Pandas."
   ]
  },
  {
   "cell_type": "code",
   "execution_count": null,
   "metadata": {
    "collapsed": true,
    "deletable": false,
    "nbgrader": {
     "checksum": "a458bd722af92515c6c69d35c327aa3b",
     "grade": false,
     "grade_id": "import",
     "locked": true,
     "solution": false
    }
   },
   "outputs": [],
   "source": [
    "import numpy as np\n",
    "import pandas as pd"
   ]
  },
  {
   "cell_type": "markdown",
   "metadata": {},
   "source": [
    "In this problem, we will use Pandas [apply()](http://pandas.pydata.org/pandas-docs/stable/generated/pandas.DataFrame.apply.html) to perform function application in Pandas.\n",
    "\n",
    "We will use a smaller data set with only 10 rows in this problem, but any function you write in this notebook can be scaled to a larger data set such as `2001.csv`."
   ]
  },
  {
   "cell_type": "code",
   "execution_count": null,
   "metadata": {
    "collapsed": false,
    "deletable": false,
    "nbgrader": {
     "checksum": "02495f3764bca52e412ebc201e8ddb6a",
     "grade": false,
     "grade_id": "define_df",
     "locked": true,
     "solution": false
    }
   },
   "outputs": [],
   "source": [
    "df = pd.DataFrame({\n",
    "    \"Origin\": ['ORD', 'DFW', 'ATL', 'LAX', 'PHX', 'STL', 'DTW', 'MSP', 'LAS', 'BOS'],\n",
    "    \"Distance\": [1050, 370,  228,  678,  873, 472,  370, 1182,  745,  448],\n",
    "    \"ArrDelay\": [-3,   4,  23,  10,  20, -3, -10, -12,  -9,  -1],\n",
    "    \"DepDelay\": [-4,  -5,  11,  -3,   0, -3,  -8,  -6,   2,   2],\n",
    "    \"Cancelled\": [0, 0, 0, 0, 1, 0, 1, 0, 1, 1]\n",
    "})\n",
    "\n",
    "print(df)"
   ]
  },
  {
   "cell_type": "markdown",
   "metadata": {},
   "source": [
    "## 1. Calculate the base-10 logarithm of Distance.\n",
    "\n",
    "- Use Pandas [apply()](http://pandas.pydata.org/pandas-docs/stable/generated/pandas.DataFrame.apply.html) function to write a function named `get_log10()`, which takes a Pandas data frame as its first argument and a column name (str) as its second argument. It returns a Pandas Series with base-10 log values of the specified column.\n",
    "\n",
    "Note: [numpy.log()](http://docs.scipy.org/doc/numpy/reference/generated/numpy.log.html) calculates the natural logarithm. For the base-10 logarithm, you should use [numpy.log10()](http://docs.scipy.org/doc/numpy/reference/generated/numpy.log10.html)."
   ]
  },
  {
   "cell_type": "code",
   "execution_count": null,
   "metadata": {
    "collapsed": false,
    "deletable": false,
    "nbgrader": {
     "checksum": "ad6a42d38d3677693c7af22df2d5656b",
     "grade": false,
     "grade_id": "get_log10_answer",
     "locked": false,
     "solution": true
    }
   },
   "outputs": [],
   "source": [
    "def get_log10(df, column):\n",
    "    '''\n",
    "    Takes a data frame and a column name.\n",
    "    Returns base-10 log of the specified column.\n",
    "    \n",
    "    Parameters\n",
    "    ----------\n",
    "    df: A pandas data frame.\n",
    "    column: A string.\n",
    "    \n",
    "    Returns\n",
    "    -------\n",
    "    A Pandas Series.\n",
    "    '''\n",
    "    \n",
    "    # YOUR CODE HERE\n",
    "    \n",
    "    return result"
   ]
  },
  {
   "cell_type": "markdown",
   "metadata": {},
   "source": [
    "In the following cell, we visually inspect the result."
   ]
  },
  {
   "cell_type": "code",
   "execution_count": null,
   "metadata": {
    "collapsed": false,
    "deletable": false,
    "nbgrader": {
     "checksum": "e411659ec747a6ee6a79f447022f6ec3",
     "grade": false,
     "grade_id": "get_log10_print",
     "locked": true,
     "points": 6,
     "solution": false
    }
   },
   "outputs": [],
   "source": [
    "log_10_distance = get_log10(df, \"Distance\")\n",
    "print(log_10_distance)"
   ]
  },
  {
   "cell_type": "markdown",
   "metadata": {},
   "source": [
    "Make sure your function passes the test in the following code cell."
   ]
  },
  {
   "cell_type": "code",
   "execution_count": null,
   "metadata": {
    "collapsed": false,
    "deletable": false,
    "nbgrader": {
     "checksum": "ddeee58de64c5bfe79a73058807b0274",
     "grade": true,
     "grade_id": "get_log10_test",
     "locked": true,
     "points": 6,
     "solution": false
    }
   },
   "outputs": [],
   "source": [
    "answer1 = np.array([\n",
    "    3.0211893, 2.56820172, 2.35793485, 2.83122969,  2.94101424,\n",
    "    2.673942, 2.56820172, 3.07261748, 2.87215627, 2.65127801\n",
    "])\n",
    "\n",
    "np.testing.assert_allclose(answer1, log_10_distance.values)"
   ]
  },
  {
   "cell_type": "markdown",
   "metadata": {},
   "source": [
    "## 2. Calculate total delay.\n",
    "\n",
    "- Use Pandas apply() to write a function named `get_sum()` that takes a data frame and returns the sum of each row in the specified columns. That is, if the arrival and departure delay columns of our data frame are:\n",
    "\n",
    "```\n",
    "   ArrDelay  DepDelay\n",
    "0        -3        -4\n",
    "1         4        -5\n",
    "2        23        11\n",
    "3        10        -3\n",
    "4        20         0\n",
    "5        -3        -3\n",
    "6       -10        -8\n",
    "7       -12        -6\n",
    "8        -9         2\n",
    "9        -1         2\n",
    "```\n",
    "\n",
    "we want to calculate the sum of each row in these columns:\n",
    "\n",
    "```\n",
    "0    -7\n",
    "1    -1\n",
    "2    34\n",
    "3     7\n",
    "4    20\n",
    "5    -6\n",
    "6   -18\n",
    "7   -18\n",
    "8    -7\n",
    "9     1\n",
    "```"
   ]
  },
  {
   "cell_type": "code",
   "execution_count": null,
   "metadata": {
    "collapsed": true,
    "deletable": false,
    "nbgrader": {
     "checksum": "21f5c5bfb4c9ebe5723461b75bc51597",
     "grade": false,
     "grade_id": "get_sum_answer",
     "locked": false,
     "solution": true
    }
   },
   "outputs": [],
   "source": [
    "def get_sum(df, columns):\n",
    "    '''\n",
    "    Takes a Pandas DataFrame as its first argument and a list of columns as its second argument.\n",
    "    Returns a Pandas Series with the sum of the columns listed in \"columns\".\n",
    "    \n",
    "    Parameters\n",
    "    ----------\n",
    "    df: A pandas DataFrame.\n",
    "    columns: A list of strings.\n",
    "    \n",
    "    Returns\n",
    "    -------\n",
    "    A pandas Series.\n",
    "    '''\n",
    "\n",
    "    # YOUR CODE HERE\n",
    "    \n",
    "    return result"
   ]
  },
  {
   "cell_type": "code",
   "execution_count": null,
   "metadata": {
    "collapsed": false,
    "deletable": false,
    "nbgrader": {
     "checksum": "09c6f5ce1da22ee3850eef246d4450f8",
     "grade": false,
     "grade_id": "get_sum_print",
     "locked": true,
     "solution": false
    }
   },
   "outputs": [],
   "source": [
    "total_delay = get_sum(df, [\"ArrDelay\", \"DepDelay\"])\n",
    "print(total_delay)"
   ]
  },
  {
   "cell_type": "markdown",
   "metadata": {},
   "source": [
    "Make sure that your function passes the test in the following code cell."
   ]
  },
  {
   "cell_type": "code",
   "execution_count": null,
   "metadata": {
    "collapsed": false,
    "deletable": false,
    "nbgrader": {
     "checksum": "031d8a6313c24ff4257239cf3cdd0797",
     "grade": true,
     "grade_id": "get_sum_test",
     "locked": true,
     "points": 6,
     "solution": false
    }
   },
   "outputs": [],
   "source": [
    "answer2 = np.array([ -7,  -1,  34,   7,  20,  -6, -18, -18,  -7,   1])\n",
    "\n",
    "np.testing.assert_array_equal(answer2, total_delay.values)"
   ]
  },
  {
   "cell_type": "markdown",
   "metadata": {},
   "source": [
    "## 3. Replace Cancelled.\n",
    "\n",
    "- Use Pandas apply() to write a function that replaces every 1 with \"Yes\" and 0 with \"No\" in the specified column of the data frame. For example, all values in the `Cancelled` column are either 0 or 1:\n",
    "\n",
    "```\n",
    "   Cancelled\n",
    "0          0\n",
    "1          0\n",
    "2          0\n",
    "3          0\n",
    "4          1\n",
    "5          0\n",
    "6          1\n",
    "7          0\n",
    "8          1\n",
    "9          1\n",
    "```\n",
    "\n",
    "and what we want in the end is\n",
    "\n",
    "```\n",
    "0     No\n",
    "1     No\n",
    "2     No\n",
    "3     No\n",
    "4    Yes\n",
    "5     No\n",
    "6    Yes\n",
    "7     No\n",
    "8    Yes\n",
    "9    Yes\n",
    "```"
   ]
  },
  {
   "cell_type": "code",
   "execution_count": null,
   "metadata": {
    "collapsed": false,
    "deletable": false,
    "nbgrader": {
     "checksum": "025cb58a12519d2dfb7fc75ac70861b9",
     "grade": false,
     "grade_id": "get_yes_or_no_answer",
     "locked": false,
     "solution": true
    }
   },
   "outputs": [],
   "source": [
    "def get_yes_or_no(df, column):\n",
    "    '''\n",
    "    Takes a Pandas DataFrame as its first argument,\n",
    "    and the name of the column to use as its second argument.\n",
    "    Replaces every 1 with \"Yes\" and 0 with \"No\" in the specified column.\n",
    "    \n",
    "    Parameters\n",
    "    ----------\n",
    "    df: A Pandas DataFrame.\n",
    "    column: A string.\n",
    "    \n",
    "    Returns\n",
    "    -------\n",
    "    A Pandas Series.\n",
    "    '''\n",
    "    \n",
    "    # YOUR CODE HERE\n",
    "    \n",
    "    return result"
   ]
  },
  {
   "cell_type": "code",
   "execution_count": null,
   "metadata": {
    "collapsed": false,
    "deletable": false,
    "nbgrader": {
     "checksum": "a8cc662aad30930932e6f95b1aced406",
     "grade": false,
     "grade_id": "get_yes_or_no_print",
     "locked": true,
     "solution": false
    }
   },
   "outputs": [],
   "source": [
    "cancelled = get_yes_or_no(df, \"Cancelled\")\n",
    "print(cancelled)"
   ]
  },
  {
   "cell_type": "code",
   "execution_count": null,
   "metadata": {
    "collapsed": false,
    "deletable": false,
    "nbgrader": {
     "checksum": "b32b2a00dd4f50e99c8223558c5d0f18",
     "grade": true,
     "grade_id": "get_yes_or_no_test",
     "locked": true,
     "points": 6,
     "solution": false
    }
   },
   "outputs": [],
   "source": [
    "answer3 = np.array(['No', 'No', 'No', 'No', 'Yes', 'No', 'Yes', 'No', 'Yes', 'Yes'])\n",
    "\n",
    "np.testing.assert_array_equal(answer3, cancelled.values)"
   ]
  },
  {
   "cell_type": "markdown",
   "metadata": {},
   "source": [
    "## 4. Get city names from IATA codes.\n",
    "\n",
    "Consider the following function:"
   ]
  },
  {
   "cell_type": "code",
   "execution_count": null,
   "metadata": {
    "collapsed": false,
    "deletable": false,
    "nbgrader": {
     "checksum": "8d8aaf491a9f2f8b25b4fc322a10503b",
     "grade": false,
     "grade_id": "get_city",
     "locked": true,
     "solution": false
    }
   },
   "outputs": [],
   "source": [
    "def get_city(iata):\n",
    "    data = {\n",
    "        'ORD': 'Chicago',\n",
    "        'DFW': 'Dallas-Ft Worth',\n",
    "        'ATL': 'Atlanta',\n",
    "        'LAX': 'Los Angeles',\n",
    "        'PHX': 'Phoenix',\n",
    "        'STL': 'St Louis',\n",
    "        'DTW': 'Detroit',\n",
    "        'MSP': 'Minneapolis',\n",
    "        'LAS': 'Las Vegas',\n",
    "        'BOS': 'Boston'\n",
    "    }\n",
    "    return data[iata]"
   ]
  },
  {
   "cell_type": "markdown",
   "metadata": {},
   "source": [
    "This function converts an IATA code to a city name. I chose to hard-code the dictionary because many students still had problems using web services, such as FAA or GitHub, but to scale this to a larger data set with more IATA codes we would have to rewrite the function to make use of external databases or an SQL database (which we will cover in the coming weeks).\n",
    "\n",
    "- In the following code cell, use `get_city()` and Pandas apply() to convert the IATA codes in the data frame to city names."
   ]
  },
  {
   "cell_type": "code",
   "execution_count": null,
   "metadata": {
    "collapsed": false,
    "deletable": false,
    "nbgrader": {
     "checksum": "3a790e60f621209e65f7c9e9e6188cb8",
     "grade": false,
     "grade_id": "get_name_answer",
     "locked": false,
     "solution": true
    }
   },
   "outputs": [],
   "source": [
    "def get_name(df, column):\n",
    "    '''\n",
    "    Takes a Pandas DataFrame as its first argument,\n",
    "    and the name of the column to use as its second argument.\n",
    "    Uses get_city() function to convert IATA codes into city names.\n",
    "    \n",
    "    Parameters\n",
    "    ----------\n",
    "    df: A Pandas DataFrame.\n",
    "    column: A string.\n",
    "    \n",
    "    Returns\n",
    "    -------\n",
    "    A Pandas Series.\n",
    "    '''\n",
    "    \n",
    "    # YOUR CODE HERE\n",
    "    \n",
    "    return result"
   ]
  },
  {
   "cell_type": "markdown",
   "metadata": {},
   "source": [
    "In the following cell, we will create a new column named `OriginName` in the original data frame `df`."
   ]
  },
  {
   "cell_type": "code",
   "execution_count": null,
   "metadata": {
    "collapsed": false,
    "deletable": false,
    "nbgrader": {
     "checksum": "8befe20b0a575d0ab12789292519d74d",
     "grade": false,
     "grade_id": "get_name_print",
     "locked": true,
     "solution": false
    }
   },
   "outputs": [],
   "source": [
    "df[\"OriginName\"] = get_name(df, \"Origin\")\n",
    "print(df)"
   ]
  },
  {
   "cell_type": "markdown",
   "metadata": {},
   "source": [
    "Make sure that your function passes the following test."
   ]
  },
  {
   "cell_type": "code",
   "execution_count": null,
   "metadata": {
    "collapsed": false,
    "deletable": false,
    "nbgrader": {
     "checksum": "e476b0c687b258cbaeb308a91d469e88",
     "grade": true,
     "grade_id": "get_name_test",
     "locked": true,
     "points": 6,
     "solution": false
    }
   },
   "outputs": [],
   "source": [
    "answer4 = pd.Series(\n",
    "    data=['Chicago', 'Dallas-Ft Worth', 'Atlanta', 'Los Angeles', 'Phoenix',\n",
    "          'St Louis', 'Detroit', 'Minneapolis', 'Las Vegas', 'Boston'],\n",
    "    name=\"OriginName\"\n",
    ")\n",
    "\n",
    "pd.util.testing.assert_series_equal(answer4, df[\"OriginName\"])"
   ]
  },
  {
   "cell_type": "markdown",
   "metadata": {},
   "source": [
    "## 5. Convert all upper case to lower case.\n",
    "\n",
    "- Use Pandas apply() to write a function named `to_lower` that converts all uppercase characters in the specified column of the data frame to all lowercase."
   ]
  },
  {
   "cell_type": "code",
   "execution_count": null,
   "metadata": {
    "collapsed": false,
    "deletable": false,
    "nbgrader": {
     "checksum": "ef916b33ef76f6f653d5f505e40d57ff",
     "grade": false,
     "grade_id": "to_lower_answer",
     "locked": false,
     "solution": true
    }
   },
   "outputs": [],
   "source": [
    "def to_lower(df, column):\n",
    "    '''\n",
    "    Takes a Pandas DataFrame as its first argument,\n",
    "    and the name of the column to use as its second argument.\n",
    "    Converts all strings in the specified column to lowercase.\n",
    "    \n",
    "    Parameters\n",
    "    ----------\n",
    "    df: A Pandas DataFrame.\n",
    "    column: A string.\n",
    "    \n",
    "    Returns\n",
    "    -------\n",
    "    A Pandas Series.\n",
    "    '''\n",
    "    \n",
    "    # YOUR CODE HERE\n",
    "    \n",
    "    return result"
   ]
  },
  {
   "cell_type": "code",
   "execution_count": null,
   "metadata": {
    "collapsed": false,
    "deletable": false,
    "nbgrader": {
     "checksum": "e7c59d125d5f556d03c6f442126f26d9",
     "grade": false,
     "grade_id": "to_lower_print",
     "locked": true,
     "solution": false
    }
   },
   "outputs": [],
   "source": [
    "lower_name = to_lower(df, \"OriginName\")\n",
    "print(lower_name)"
   ]
  },
  {
   "cell_type": "code",
   "execution_count": null,
   "metadata": {
    "collapsed": false,
    "deletable": false,
    "nbgrader": {
     "checksum": "b4b8d56dd6894b76cbc3e059a5ab6d11",
     "grade": true,
     "grade_id": "to_lower_test",
     "locked": true,
     "points": 6,
     "solution": false
    }
   },
   "outputs": [],
   "source": [
    "answer5 = np.array([\n",
    "    'chicago', 'dallas-ft worth', 'atlanta', 'los angeles', 'phoenix',\n",
    "    'st louis', 'detroit', 'minneapolis', 'las vegas', 'boston'\n",
    "])\n",
    "\n",
    "np.testing.assert_array_equal(answer5, lower_name.values)"
   ]
  }
 ],
 "metadata": {
  "kernelspec": {
   "display_name": "Python 3",
   "language": "python",
   "name": "python3"
  },
  "language_info": {
   "codemirror_mode": {
    "name": "ipython",
    "version": 3
   },
   "file_extension": ".py",
   "mimetype": "text/x-python",
   "name": "python",
   "nbconvert_exporter": "python",
   "pygments_lexer": "ipython3",
   "version": "3.4.0"
  }
 },
 "nbformat": 4,
 "nbformat_minor": 0
}